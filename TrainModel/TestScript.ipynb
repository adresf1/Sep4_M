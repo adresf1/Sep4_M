{
 "cells": [
  {
   "cell_type": "code",
   "execution_count": 7,
   "id": "d1520af5-323a-4747-8e49-09a3b27acae0",
   "metadata": {},
   "outputs": [
    {
     "name": "stdout",
     "output_type": "stream",
     "text": [
      "Response JSON:\n",
      "{\n",
      "    \"evaluation_metrics\": [\n",
      "        \"Accuracy Score: 0.5510204081632653\",\n",
      "        \"Precision: 0.5769230769230769\",\n",
      "        \"Recall: 0.5769230769230769\",\n",
      "        \"F1-score: 0.5769230769230769\"\n",
      "    ],\n",
      "    \"message\": \"Model trained successfully.\",\n",
      "    \"model_filename\": \"RandomForestRegressor.joblib\",\n",
      "    \"status\": \"success\"\n",
      "}\n"
     ]
    }
   ],
   "source": [
    "import requests\n",
    "import json\n",
    "\n",
    "# URL of the REST API endpoint\n",
    "url = \"http://172.17.0.2:5000/train\"  \n",
    "\n",
    "# JSON data to send in the POST request\n",
    "payload = {\n",
    "    \"model_name\": \"RandomForestRegressor\",\n",
    "    \"table_name\": \"plant_data_test\",\n",
    "    \"target_measure\": \"growth_milestone\",\n",
    "    \"test_size\": 0.25,\n",
    "    \"estimators\": 42,\n",
    "    \"random_state\": 123\n",
    "}\n",
    "\n",
    "# Set headers to specify JSON content\n",
    "headers = {\n",
    "    \"Content-Type\": \"application/json\"\n",
    "}\n",
    "\n",
    "try:\n",
    "    # Send the POST request\n",
    "    response = requests.post(url, headers=headers, json=payload)\n",
    "\n",
    "    # Raise an error if the response code is not 200-level\n",
    "    response.raise_for_status()\n",
    "\n",
    "    # Print the JSON response from the API\n",
    "    print(\"Response JSON:\")\n",
    "    print(json.dumps(response.json(), indent=4))\n",
    "\n",
    "except requests.exceptions.RequestException as e:\n",
    "    print(f\"Request failed: {e}\")"
   ]
  },
  {
   "cell_type": "code",
   "execution_count": 9,
   "id": "5967b47b-e022-44d2-994a-e61d28c53b5b",
   "metadata": {},
   "outputs": [
    {
     "name": "stdout",
     "output_type": "stream",
     "text": [
      "✅ Success:\n",
      "{'message': 'Prediction completed successfully.', 'model_used': 'RandomForestRegressor', 'result': [0.30952380952380953, 0.6904761904761905], 'status': 'success'}\n"
     ]
    }
   ],
   "source": [
    "import requests\n",
    "import json\n",
    "\n",
    "def send_prediction_request():\n",
    "    url = \"http://172.17.0.2:5000/predict\"\n",
    "\n",
    "    payload = {\n",
    "        \"TypeofModel\": \"rfc\",  # Model type\n",
    "        \"NameOfModel\": \"RandomForestRegressor\",  # Replace with your actual model name\n",
    "        \"Data\": {\n",
    "            \"soil_type\": 0,\n",
    "            \"sunlight_hours\": 2,\n",
    "            \"water_frequency\": 0,\n",
    "            \"fertilizer_type\": 0,\n",
    "            \"temperature\": 1,\n",
    "            \"humidity\": 0\n",
    "             }\n",
    "    }\n",
    "\n",
    "    headers = {\n",
    "        \"Content-Type\": \"application/json\"\n",
    "    }\n",
    "\n",
    "    try:\n",
    "        response = requests.post(url, data=json.dumps(payload), headers=headers)\n",
    "        response.raise_for_status()  # Raises HTTPError for bad responses (4xx/5xx)\n",
    "        print(\"✅ Success:\")\n",
    "        print(response.json())\n",
    "    except requests.exceptions.RequestException as e:\n",
    "        print(\"❌ Request failed:\", e)\n",
    "\n",
    "# Run the function\n",
    "send_prediction_request()"
   ]
  },
  {
   "cell_type": "code",
   "execution_count": null,
   "id": "b80fd99a-52a5-457d-8a6d-8ddc4a1cf57f",
   "metadata": {},
   "outputs": [],
   "source": []
  }
 ],
 "metadata": {
  "kernelspec": {
   "display_name": "Python 3 (ipykernel)",
   "language": "python",
   "name": "python3"
  },
  "language_info": {
   "codemirror_mode": {
    "name": "ipython",
    "version": 3
   },
   "file_extension": ".py",
   "mimetype": "text/x-python",
   "name": "python",
   "nbconvert_exporter": "python",
   "pygments_lexer": "ipython3",
   "version": "3.11.6"
  }
 },
 "nbformat": 4,
 "nbformat_minor": 5
}
