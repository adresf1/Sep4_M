{
 "cells": [
  {
   "cell_type": "code",
   "execution_count": null,
   "id": "fef51372-3c4b-464a-8cfa-a5fde6b8adaa",
   "metadata": {},
   "outputs": [],
   "source": [
    "\n",
    "from sklearn.model_selection import train_test_split\n",
    "from sklearn.preprocessing import LabelEncoder , StandardScaler\n",
    "\n",
    "from sklearn.ensemble import RandomForestClassifier\n",
    "from sklearn.metrics import accuracy_score, classification_report , confusion_matrix, precision_score,recall_score, f1_score\n",
    "\n"
   ]
  },
  {
   "cell_type": "code",
   "execution_count": null,
   "id": "5443a25c-6ff1-4f9d-b50d-0cc83fc656e6",
   "metadata": {},
   "outputs": [],
   "source": [
    "#Using Arbitrary Kword Arguments\n",
    "#    try:\n",
    "#      print(x)\n",
    "#    except:\n",
    "#      print(\"An exception occurred\")\n",
    "\n",
    "#args['targetMeasure'] = 'Growth_Milestone' in demo set\n",
    "# currentSignature (string targetMeasure,dataframe trainningData,float testSize, int estimators, int randomState)\n",
    "def train_RFC_model(**args):\n",
    "    df = ['trainningData']\n",
    "    \n",
    "    if len(df.columns) < 2:\n",
    "        raise Exception(\"DataFrame contains less than 2 columns and cant be used for training\")\n",
    "\n",
    "    if len(df.rows) < 10:\n",
    "        raise Exception(\"DataFrame contains less than 10 rows and cant be used for training\")\n",
    "    \n",
    "    num_cols = df.select_dtypes(include = ['int64','float64']).columns\n",
    "    cat_cols = df.select_dtypes(include = ['object']).columns\n",
    "\n",
    "    try: \n",
    "        label_encoder = LabelEncoder()\n",
    "        for col in cat_cols:\n",
    "            df[col] = label_encoder.fit_transform(df[col])\n",
    "    except Exception as e:\n",
    "        raise Exception(\"Exception in label encoding: \" + repr(e))\n",
    "        \n",
    "    x= df.drop([args['targetMeasure']],axis=1)\n",
    "    y= df[args['targetMeasure']]\n",
    "\n",
    "    try:\n",
    "        # Convert DataFrame to a list of dictionaries\n",
    "        df_dict = df.to_dict(orient='records')\n",
    "        X_train, X_test, y_train, y_test = train_test_split(x, y, test_size=args['testSize'], random_state=args['randomState'])\n",
    "    \n",
    "        # Standardize the features\n",
    "        scaler = StandardScaler()\n",
    "        X_train_scaled = scaler.fit_transform(X_train)\n",
    "        X_test_scaled = scaler.transform(X_test)\n",
    "    except Exception as e: \n",
    "        raise Exception(\"Exception when reformatting Dataframe to training/test data: \" + repr(e))\n",
    "    try:\n",
    "        #create precisson variables \n",
    "        precision = precision_score(rfc_pred, y_test)\n",
    "        recall = recall_score(rfc_pred,y_test)\n",
    "        #create and train classifier\n",
    "        rfc = RandomForestClassifier(n_estimators = args['estimators'] , random_state=args['randomState'])\n",
    "        rfc.fit(X_train.values,y_train)\n",
    "\n",
    "        #Package info to an array \n",
    "        msg = [\n",
    "            f'Accuracy Score: {accuracy_score(rfc_pred,y_test)}',\n",
    "            f'Precision: {precision}',\n",
    "            f'Recall: {recall}',\n",
    "            f'F1-score: {f1}',\n",
    "        ]\n",
    "    except Exception as e: \n",
    "        raise Exception(\"Exception in calculation of precission: \" + repr(e))\n",
    "    \n",
    "    return [rfc,msg]\n",
    "    "
   ]
  },
  {
   "cell_type": "code",
   "execution_count": null,
   "id": "a2586b3e-fbe4-4260-becb-8c177e5aab1f",
   "metadata": {},
   "outputs": [],
   "source": []
  },
  {
   "cell_type": "code",
   "execution_count": null,
   "id": "ff9f393a-8efd-4e94-880e-86888328dd6c",
   "metadata": {},
   "outputs": [],
   "source": []
  }
 ],
 "metadata": {
  "kernelspec": {
   "display_name": "Python 3 (ipykernel)",
   "language": "python",
   "name": "python3"
  },
  "language_info": {
   "codemirror_mode": {
    "name": "ipython",
    "version": 3
   },
   "file_extension": ".py",
   "mimetype": "text/x-python",
   "name": "python",
   "nbconvert_exporter": "python",
   "pygments_lexer": "ipython3",
   "version": "3.11.6"
  }
 },
 "nbformat": 4,
 "nbformat_minor": 5
}
