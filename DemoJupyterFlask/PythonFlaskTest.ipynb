{
 "cells": [
  {
   "cell_type": "code",
   "execution_count": 1,
   "id": "98b09ecd-15ee-490f-a7f7-88b1c219aabb",
   "metadata": {},
   "outputs": [
    {
     "name": "stdout",
     "output_type": "stream",
     "text": [
      "/home/jovyan\n",
      "[    Soil_Type  Sunlight_Hours Water_Frequency Fertilizer_Type  Temperature  \\\n",
      "0        loam        5.192294       bi-weekly        chemical    31.719602   \n",
      "1       sandy        4.033133          weekly         organic    28.919484   \n",
      "2        loam        8.892769       bi-weekly            none    23.179059   \n",
      "3        loam        8.241144       bi-weekly            none    18.465886   \n",
      "4       sandy        8.374043       bi-weekly         organic    18.128741   \n",
      "..        ...             ...             ...             ...          ...   \n",
      "188     sandy        5.652000           daily            none    28.000000   \n",
      "189      clay        7.528000          weekly        chemical    30.500000   \n",
      "190      loam        4.934000       bi-weekly            none    24.500000   \n",
      "191     sandy        8.273000           daily         organic    27.900000   \n",
      "192      clay        6.732000          weekly            none    21.700000   \n",
      "\n",
      "      Humidity  Growth_Milestone  \n",
      "0    61.591861                 0  \n",
      "1    52.422276                 1  \n",
      "2    44.660539                 0  \n",
      "3    46.433227                 0  \n",
      "4    63.625923                 0  \n",
      "..         ...               ...  \n",
      "188  70.200000                 0  \n",
      "189  60.100000                 1  \n",
      "190  61.700000                 0  \n",
      "191  69.500000                 1  \n",
      "192  56.900000                 0  \n",
      "\n",
      "[193 rows x 7 columns]]\n"
     ]
    }
   ],
   "source": [
    "import os\n",
    "\n",
    "# Get the current working directory\n",
    "cwd = os.getcwd()\n",
    "\n",
    "print(cwd)\n",
    "\n",
    "import pandas as pd\n",
    "from pathlib import Path\n",
    "\n",
    "from sklearn.feature_extraction import DictVectorizer\n",
    "\n",
    "#I have downloaded the zip from kaggle and used the docker desktop to insert the file into tmp folder in a folder called archive\n",
    "path2csv = Path(\"/tmp/archive/\")\n",
    "csvlist = path2csv.glob(\"*.csv\")\n",
    "csvs = [pd.read_csv(g) for g in csvlist ]\n",
    "\n",
    "#\n",
    "print(csvs)"
   ]
  },
  {
   "cell_type": "code",
   "execution_count": 2,
   "id": "5e4e48d9-3c5b-478b-bac0-36e7aeb17457",
   "metadata": {},
   "outputs": [
    {
     "data": {
      "text/html": [
       "<div>\n",
       "<style scoped>\n",
       "    .dataframe tbody tr th:only-of-type {\n",
       "        vertical-align: middle;\n",
       "    }\n",
       "\n",
       "    .dataframe tbody tr th {\n",
       "        vertical-align: top;\n",
       "    }\n",
       "\n",
       "    .dataframe thead th {\n",
       "        text-align: right;\n",
       "    }\n",
       "</style>\n",
       "<table border=\"1\" class=\"dataframe\">\n",
       "  <thead>\n",
       "    <tr style=\"text-align: right;\">\n",
       "      <th></th>\n",
       "      <th>Soil_Type</th>\n",
       "      <th>Sunlight_Hours</th>\n",
       "      <th>Water_Frequency</th>\n",
       "      <th>Fertilizer_Type</th>\n",
       "      <th>Temperature</th>\n",
       "      <th>Humidity</th>\n",
       "      <th>Growth_Milestone</th>\n",
       "    </tr>\n",
       "  </thead>\n",
       "  <tbody>\n",
       "    <tr>\n",
       "      <th>0</th>\n",
       "      <td>loam</td>\n",
       "      <td>5.192294</td>\n",
       "      <td>bi-weekly</td>\n",
       "      <td>chemical</td>\n",
       "      <td>31.719602</td>\n",
       "      <td>61.591861</td>\n",
       "      <td>0</td>\n",
       "    </tr>\n",
       "    <tr>\n",
       "      <th>1</th>\n",
       "      <td>sandy</td>\n",
       "      <td>4.033133</td>\n",
       "      <td>weekly</td>\n",
       "      <td>organic</td>\n",
       "      <td>28.919484</td>\n",
       "      <td>52.422276</td>\n",
       "      <td>1</td>\n",
       "    </tr>\n",
       "    <tr>\n",
       "      <th>2</th>\n",
       "      <td>loam</td>\n",
       "      <td>8.892769</td>\n",
       "      <td>bi-weekly</td>\n",
       "      <td>none</td>\n",
       "      <td>23.179059</td>\n",
       "      <td>44.660539</td>\n",
       "      <td>0</td>\n",
       "    </tr>\n",
       "    <tr>\n",
       "      <th>3</th>\n",
       "      <td>loam</td>\n",
       "      <td>8.241144</td>\n",
       "      <td>bi-weekly</td>\n",
       "      <td>none</td>\n",
       "      <td>18.465886</td>\n",
       "      <td>46.433227</td>\n",
       "      <td>0</td>\n",
       "    </tr>\n",
       "    <tr>\n",
       "      <th>4</th>\n",
       "      <td>sandy</td>\n",
       "      <td>8.374043</td>\n",
       "      <td>bi-weekly</td>\n",
       "      <td>organic</td>\n",
       "      <td>18.128741</td>\n",
       "      <td>63.625923</td>\n",
       "      <td>0</td>\n",
       "    </tr>\n",
       "  </tbody>\n",
       "</table>\n",
       "</div>"
      ],
      "text/plain": [
       "  Soil_Type  Sunlight_Hours Water_Frequency Fertilizer_Type  Temperature  \\\n",
       "0      loam        5.192294       bi-weekly        chemical    31.719602   \n",
       "1     sandy        4.033133          weekly         organic    28.919484   \n",
       "2      loam        8.892769       bi-weekly            none    23.179059   \n",
       "3      loam        8.241144       bi-weekly            none    18.465886   \n",
       "4     sandy        8.374043       bi-weekly         organic    18.128741   \n",
       "\n",
       "    Humidity  Growth_Milestone  \n",
       "0  61.591861                 0  \n",
       "1  52.422276                 1  \n",
       "2  44.660539                 0  \n",
       "3  46.433227                 0  \n",
       "4  63.625923                 0  "
      ]
     },
     "execution_count": 2,
     "metadata": {},
     "output_type": "execute_result"
    }
   ],
   "source": [
    "#refactor to pandas object to follow example code \n",
    "df = pd.read_csv('/tmp/archive/plant_growth_data.csv');\n",
    "df.head()"
   ]
  },
  {
   "cell_type": "code",
   "execution_count": 3,
   "id": "349f8e85-4840-488f-8d0c-8844adf7f76f",
   "metadata": {},
   "outputs": [
    {
     "name": "stdout",
     "output_type": "stream",
     "text": [
      "[[ 0.          0.         61.59186061 ...  5.19229409 31.71960241\n",
      "   0.        ]\n",
      " [ 2.          1.         52.4222761  ...  4.0331327  28.91948412\n",
      "   2.        ]\n",
      " [ 1.          0.         44.66053858 ...  8.89276857 23.17905889\n",
      "   0.        ]\n",
      " ...\n",
      " [ 1.          0.         61.7        ...  4.934      24.5\n",
      "   0.        ]\n",
      " [ 2.          1.         69.5        ...  8.273      27.9\n",
      "   1.        ]\n",
      " [ 1.          0.         56.9        ...  6.732      21.7\n",
      "   2.        ]]\n"
     ]
    }
   ],
   "source": [
    "# Preprocces columns to scikit learn structure \n",
    "df.isnull().sum()\n",
    "\n",
    "from sklearn.model_selection import train_test_split\n",
    "from sklearn.preprocessing import LabelEncoder , StandardScaler\n",
    "\n",
    "from sklearn.ensemble import RandomForestClassifier\n",
    "from sklearn.metrics import accuracy_score, classification_report , confusion_matrix, precision_score,recall_score, f1_score\n",
    "\n",
    "num_cols = df.select_dtypes(include = ['int64','float64']).columns\n",
    "cat_cols = df.select_dtypes(include = ['object']).columns\n",
    "\n",
    "\n",
    "\n",
    "label_encoder = LabelEncoder()\n",
    "\n",
    "for col in cat_cols:\n",
    "    df[col] = label_encoder.fit_transform(df[col])\n",
    "\n",
    "x= df.drop(['Growth_Milestone'],axis=1)\n",
    "y= df['Growth_Milestone']\n",
    "\n",
    "# Convert DataFrame to a list of dictionaries\n",
    "df_dict = df.to_dict(orient='records')\n",
    "\n",
    "\n",
    "\n",
    "# Initialize DictVectorizer\n",
    "vec = DictVectorizer(sparse=False)\n",
    "\n",
    "# Transform the data into a matrix\n",
    "X = vec.fit_transform(df_dict)\n",
    "\n",
    "# Define the target variable\n",
    "y = df['Growth_Milestone']\n",
    "\n",
    "print(X)"
   ]
  },
  {
   "cell_type": "code",
   "execution_count": 4,
   "id": "c27475a6-1bd3-4cbd-82c2-fdfd1d8cba85",
   "metadata": {},
   "outputs": [],
   "source": [
    "#\n",
    "\n",
    "\n",
    "X_train, X_test, y_train, y_test = train_test_split(x, y, test_size=0.2, random_state=42)\n",
    "# Standardize the features\n",
    "scaler = StandardScaler()\n",
    "X_train_scaled = scaler.fit_transform(X_train)\n",
    "X_test_scaled = scaler.transform(X_test)"
   ]
  },
  {
   "cell_type": "code",
   "execution_count": 5,
   "id": "249186d9-37ff-409b-9e2b-f3e87a75958c",
   "metadata": {},
   "outputs": [
    {
     "name": "stdout",
     "output_type": "stream",
     "text": [
      "Accuracy Score: 0.5897435897435898\n",
      "Precision: 0.6363636363636364\n",
      "Recall: 0.6363636363636364\n",
      "F1-score: 0.6363636363636364\n",
      "Soil_Type           1.000000\n",
      "Sunlight_Hours      8.822032\n",
      "Water_Frequency     0.000000\n",
      "Fertilizer_Type     2.000000\n",
      "Temperature        26.509484\n",
      "Humidity           35.940896\n",
      "Name: 45, dtype: float64\n",
      "RandomForestClassifier(n_estimators=300, random_state=42)\n"
     ]
    },
    {
     "name": "stderr",
     "output_type": "stream",
     "text": [
      "/opt/conda/lib/python3.11/site-packages/sklearn/utils/validation.py:2732: UserWarning: X has feature names, but RandomForestClassifier was fitted without feature names\n",
      "  warnings.warn(\n"
     ]
    }
   ],
   "source": [
    "rfc = RandomForestClassifier(n_estimators = 300 , random_state=42)\n",
    "rfc.fit(X_train.values,y_train)\n",
    "\n",
    "rfc_pred = rfc.predict(X_test)\n",
    "print(f'Accuracy Score: {accuracy_score(rfc_pred,y_test)}')\n",
    "precision = precision_score(rfc_pred, y_test)\n",
    "recall = recall_score(rfc_pred,y_test)\n",
    "f1 = f1_score(y_test,rfc_pred)\n",
    "print(f'Precision: {precision}')\n",
    "print(f'Recall: {recall}')\n",
    "print(f'F1-score: {f1}')\n",
    "print(X_test.iloc[0])\n",
    "print(rfc)"
   ]
  },
  {
   "cell_type": "code",
   "execution_count": 6,
   "id": "ea6de147-b862-4bde-b1cc-5ddd65d512be",
   "metadata": {},
   "outputs": [],
   "source": [
    "# Define function to predict growth milestone for a given record index\n",
    "def predict_growth_milestone(record_index: int):\n",
    "    # Ensure the index is within the range of the dataset\n",
    "    if record_index < 0 or record_index >= len(df):\n",
    "        return \"Index out of range\"\n",
    "    \n",
    "    # Extract the record (including preprocessing steps)\n",
    "    record = df.drop(['Growth_Milestone'], axis=1).iloc[record_index].values.reshape(1, -1)\n",
    "\n",
    "    # Standardize the input record\n",
    "    record_scaled = scaler.transform(record)\n",
    "\n",
    "    print(record_scaled)\n",
    "\n",
    "    # Predict using the trained Random Forest model\n",
    "    prediction = rfc.predict(record_scaled)\n",
    "\n",
    "    # Return the prediction (0 or 1) based on the growth milestone\n",
    "    if prediction == 1:\n",
    "        return \"Milestone Reached\"\n",
    "    else:\n",
    "        return \"Milestone Not Reached\"\n"
   ]
  },
  {
   "cell_type": "code",
   "execution_count": 7,
   "id": "13bc22e1-0155-4522-8a53-56b09d7499b7",
   "metadata": {},
   "outputs": [
    {
     "name": "stdout",
     "output_type": "stream",
     "text": [
      "[[ 1.24286687  0.94650076 -1.32287566  0.07624655 -1.76587469 -1.85786206]]\n",
      "Record 20: Milestone Reached\n"
     ]
    },
    {
     "name": "stderr",
     "output_type": "stream",
     "text": [
      "/opt/conda/lib/python3.11/site-packages/sklearn/utils/validation.py:2739: UserWarning: X does not have valid feature names, but StandardScaler was fitted with feature names\n",
      "  warnings.warn(\n"
     ]
    }
   ],
   "source": [
    "record_index = 20  # You can change this to any index within the dataset\n",
    "result = predict_growth_milestone(record_index)\n",
    "print(f\"Record {record_index}: {result}\")"
   ]
  },
  {
   "cell_type": "code",
   "execution_count": 8,
   "id": "cfcf1f81-0b6f-4e6f-814d-4c37998213e5",
   "metadata": {},
   "outputs": [],
   "source": [
    "#save model\n",
    "import pickle\n",
    "output_file = f'model_GrowthPredict.bin'"
   ]
  },
  {
   "cell_type": "code",
   "execution_count": 9,
   "id": "6c7c6f32-d879-4eee-814b-3db8fa139020",
   "metadata": {},
   "outputs": [
    {
     "data": {
      "text/plain": [
       "'model_GrowthPredict.bin'"
      ]
     },
     "execution_count": 9,
     "metadata": {},
     "output_type": "execute_result"
    }
   ],
   "source": [
    "output_file"
   ]
  },
  {
   "cell_type": "code",
   "execution_count": 10,
   "id": "cb9e583d-7bd2-4b7d-9bfd-fa4f725e041d",
   "metadata": {},
   "outputs": [],
   "source": [
    "with open(output_file, 'wb') as f_out:\n",
    "    pickle.dump((vec, rfc),f_out)"
   ]
  }
 ],
 "metadata": {
  "kernelspec": {
   "display_name": "Python 3 (ipykernel)",
   "language": "python",
   "name": "python3"
  },
  "language_info": {
   "codemirror_mode": {
    "name": "ipython",
    "version": 3
   },
   "file_extension": ".py",
   "mimetype": "text/x-python",
   "name": "python",
   "nbconvert_exporter": "python",
   "pygments_lexer": "ipython3",
   "version": "3.11.6"
  }
 },
 "nbformat": 4,
 "nbformat_minor": 5
}
