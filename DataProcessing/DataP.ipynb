{
 "cells": [
  {
   "cell_type": "code",
   "execution_count": 1,
   "id": "d067acae-dc08-419c-aab5-0262423f2b15",
   "metadata": {},
   "outputs": [],
   "source": [
    "from flask import Flask, request, jsonify\n",
    "from flask_sqlalchemy import SQLAlchemy\n",
    "import math"
   ]
  },
  {
   "cell_type": "code",
   "execution_count": 2,
   "id": "e38df456-b2c5-4122-b965-1c356259a0f7",
   "metadata": {},
   "outputs": [],
   "source": [
    "app = Flask(__name__)\n",
    "app.config['SQLALCHEMY_DATABASE_URI'] = ''\n",
    "app.config['SQLALCHEMY_TRACK_MODIFICATIONS'] = False\n",
    "db = SQLAlchemy(app)"
   ]
  },
  {
   "cell_type": "code",
   "execution_count": 3,
   "id": "b2c5ce20-e098-482b-b965-fb5d1a8c71f0",
   "metadata": {},
   "outputs": [],
   "source": [
    "class SensorData(db.Model):\n",
    "    __tablename__ = 'sensor_data'\n",
    "\n",
    "    id = db.Column(db.Integer, primary_key=True)\n",
    "    air_temperature = db.Column(db.Float)\n",
    "    air_humidity = db.Column(db.Float)\n",
    "    soil_moisture = db.Column(db.Float)\n",
    "    light = db.Column(db.Float)\n",
    "    light_type = db.Column(db.String)\n",
    "    light_max = db.Column(db.Float)\n",
    "    light_min = db.Column(db.Float)\n",
    "    artificial_light = db.Column(db.Boolean)\n",
    "    light_avg = db.Column(db.Float)\n",
    "    distance_to_height = db.Column(db.Float)\n",
    "    water = db.Column(db.Float)\n",
    "    time_since_last_watering = db.Column(db.Float)\n",
    "    water_amount = db.Column(db.Float)\n",
    "    watering_frequency = db.Column(db.Float)\n",
    "    timestamp = db.Column(db.String)\n",
    "    soil_type = db.Column(db.String)\n",
    "    fertilizer_type = db.Column(db.String)\n",
    "    experiment_number = db.Column(db.Integer)\n",
    "    \n",
    "    # Calculated figures\n",
    "    light_variation = db.Column(db.Float)\n",
    "    water_need_score = db.Column(db.Float)"
   ]
  },
  {
   "cell_type": "code",
   "execution_count": 4,
   "id": "dfd1d067-39b3-4bbf-8fda-df9c08d851f0",
   "metadata": {},
   "outputs": [],
   "source": [
    "with app.app_context():\n",
    "    db.create_all()"
   ]
  },
  {
   "cell_type": "code",
   "execution_count": 5,
   "id": "c4fb322b-360e-4c19-b658-7fa6bf9f3e08",
   "metadata": {},
   "outputs": [],
   "source": [
    "@app.route('/fetch-sensor-data', methods=['POST'])\n",
    "def post_sensor_data():\n",
    "    try:\n",
    "        data = request.get_json()\n",
    "\n",
    "        if not isinstance(data, list):\n",
    "            return jsonify({'error': 'Expected a list of sensor data'}), 400\n",
    "\n",
    "        for entry in data:\n",
    "            # Beregninger:\n",
    "            light_max = entry.get('light_max', 0)\n",
    "            light_min = entry.get('light_min', 0)\n",
    "            time_since_last = entry.get('time_since_last_watering', 0)\n",
    "            soil_moisture = entry.get('soil_moisture', 0)\n",
    "\n",
    "            light_variation = light_max - light_min\n",
    "            water_need_score = (100 - soil_moisture) * (time_since_last / 24)\n",
    "\n",
    "            sensor = SensorData(\n",
    "                air_temperature=entry.get('air_temperature'),\n",
    "                air_humidity=entry.get('air_humidity'),\n",
    "                soil_moisture=soil_moisture,\n",
    "                light=entry.get('light'),\n",
    "                light_type=entry.get('light_type'),\n",
    "                light_max=light_max,\n",
    "                light_min=light_min,\n",
    "                artificial_light=entry.get('artificial_light'),\n",
    "                light_avg=entry.get('light_avg'),\n",
    "                distance_to_height=entry.get('distance_to_height'),\n",
    "                water=entry.get('water'),\n",
    "                time_since_last_watering=time_since_last,\n",
    "                water_amount=entry.get('water_amount'),\n",
    "                watering_frequency=entry.get('watering_frequency'),\n",
    "                timestamp=entry.get('timestamp'),\n",
    "                soil_type=entry.get('soil_type'),\n",
    "                fertilizer_type=entry.get('fertilizer_type'),\n",
    "                experiment_number=entry.get('experiment_number'),\n",
    "                light_variation=light_variation,\n",
    "                water_need_score=water_need_score\n",
    "            )\n",
    "\n",
    "            db.session.add(sensor)\n",
    "\n",
    "        db.session.commit()\n",
    "        return jsonify({'status': 'Data saved successfully'}), 201\n",
    "\n",
    "    except Exception as e:\n",
    "        return jsonify({'error': str(e)}), 500\n"
   ]
  },
  {
   "cell_type": "code",
   "execution_count": 6,
   "id": "528b3007-94d7-4431-93dc-208cbab3b176",
   "metadata": {},
   "outputs": [],
   "source": [
    "@app.route('/fetch-sensor-data', methods=['GET'])\n",
    "def fetch_sensor_data():\n",
    "    try:\n",
    "        data = SensorData.query.all()\n",
    "        results = []\n",
    "\n",
    "        for d in data:\n",
    "            results.append({\n",
    "                \"id\": d.id,\n",
    "                \"air_temperature\": d.air_temperature,\n",
    "                \"air_humidity\": d.air_humidity,\n",
    "                \"soil_moisture\": d.soil_moisture,\n",
    "                \"light\": d.light,\n",
    "                \"light_type\": d.light_type,\n",
    "                \"light_max\": d.light_max,\n",
    "                \"light_min\": d.light_min,\n",
    "                \"artificial_light\": d.artificial_light,\n",
    "                \"light_avg\": d.light_avg,\n",
    "                \"distance_to_height\": d.distance_to_height,\n",
    "                \"water\": d.water,\n",
    "                \"time_since_last_watering\": d.time_since_last_watering,\n",
    "                \"water_amount\": d.water_amount,\n",
    "                \"watering_frequency\": d.watering_frequency,\n",
    "                \"timestamp\": d.timestamp,\n",
    "                \"soil_type\": d.soil_type,\n",
    "                \"fertilizer_type\": d.fertilizer_type,\n",
    "                \"experiment_number\": d.experiment_number,\n",
    "                \"light_variation\": d.light_variation,\n",
    "                \"water_need_score\": d.water_need_score\n",
    "            })\n",
    "\n",
    "        return jsonify(results), 200\n",
    "    except Exception as e:\n",
    "        return jsonify({'error': str(e)}), 500\n"
   ]
  },
  {
   "cell_type": "code",
   "execution_count": null,
   "id": "81431d54-832d-44f0-8e19-612e2173c358",
   "metadata": {},
   "outputs": [
    {
     "name": "stdout",
     "output_type": "stream",
     "text": [
      " * Serving Flask app '__main__'\n",
      " * Debug mode: off\n"
     ]
    },
    {
     "name": "stderr",
     "output_type": "stream",
     "text": [
      "\u001b[31m\u001b[1mWARNING: This is a development server. Do not use it in a production deployment. Use a production WSGI server instead.\u001b[0m\n",
      " * Running on all addresses (0.0.0.0)\n",
      " * Running on http://127.0.0.1:5000\n",
      " * Running on http://10.96.0.73:5000\n",
      "\u001b[33mPress CTRL+C to quit\u001b[0m\n",
      "127.0.0.1 - - [10/Apr/2025 19:31:17] \"\u001b[35m\u001b[1mPOST /fetch-sensor-data HTTP/1.1\u001b[0m\" 500 -\n",
      "127.0.0.1 - - [10/Apr/2025 19:31:28] \"\u001b[35m\u001b[1mPOST /fetch-sensor-data HTTP/1.1\u001b[0m\" 201 -\n",
      "127.0.0.1 - - [10/Apr/2025 19:31:33] \"GET /fetch-sensor-data HTTP/1.1\" 200 -\n",
      "127.0.0.1 - - [10/Apr/2025 19:31:33] \"\u001b[33mGET /favicon.ico HTTP/1.1\u001b[0m\" 404 -\n"
     ]
    }
   ],
   "source": [
    "if __name__ == '__main__':\n",
    "    app.run(host='0.0.0.0', port=5000)"
   ]
  },
  {
   "cell_type": "code",
   "execution_count": null,
   "id": "3d1db1d2-7326-46c1-a571-42b966be4a80",
   "metadata": {},
   "outputs": [],
   "source": []
  }
 ],
 "metadata": {
  "kernelspec": {
   "display_name": "py-sep4",
   "language": "python",
   "name": "py-sep4"
  },
  "language_info": {
   "codemirror_mode": {
    "name": "ipython",
    "version": 3
   },
   "file_extension": ".py",
   "mimetype": "text/x-python",
   "name": "python",
   "nbconvert_exporter": "python",
   "pygments_lexer": "ipython3",
   "version": "3.13.2"
  }
 },
 "nbformat": 4,
 "nbformat_minor": 5
}
